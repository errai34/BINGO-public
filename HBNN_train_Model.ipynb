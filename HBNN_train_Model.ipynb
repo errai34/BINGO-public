{
 "cells": [
  {
   "cell_type": "code",
   "execution_count": 1,
   "metadata": {},
   "outputs": [
    {
     "data": {
      "text/plain": [
       "<subprocess.Popen at 0x102abd358>"
      ]
     },
     "execution_count": 1,
     "metadata": {},
     "output_type": "execute_result"
    }
   ],
   "source": [
    "import subprocess\n",
    "subprocess.Popen(['ipcluster', 'start', '-n', '8'])"
   ]
  },
  {
   "cell_type": "code",
   "execution_count": 2,
   "metadata": {},
   "outputs": [],
   "source": [
    "from ipyparallel import Client, require\n",
    "worker = Client()"
   ]
  },
  {
   "cell_type": "code",
   "execution_count": 3,
   "metadata": {},
   "outputs": [
    {
     "name": "stdout",
     "output_type": "stream",
     "text": [
      "importing numpy on engine(s)\n",
      "importing stats from scipy on engine(s)\n",
      "importing pymc3 on engine(s)\n",
      "importing theano on engine(s)\n",
      "importing theano.tensor on engine(s)\n",
      "importing pandas on engine(s)\n",
      "importing os on engine(s)\n",
      "Engine ID:PID mapping:  {0: 16637, 1: 16638, 2: 16639, 3: 16640, 4: 16643, 5: 16644, 6: 16645, 7: 16650}\n"
     ]
    }
   ],
   "source": [
    "lview = worker[:]\n",
    "\n",
    "# now if you want to import packages, you can import them across all the 'engines'\n",
    "with lview.sync_imports():    \n",
    "    import numpy as np\n",
    "    from scipy import stats\n",
    "    import pymc3 as pm\n",
    "    import theano\n",
    "    import theano.tensor as tt\n",
    "    import pandas as pd\n",
    "    import os\n",
    "\n",
    "# there's not much point in creating plots on the engines - we want to actually see them presumably\n",
    "%matplotlib inline\n",
    "import matplotlib.pyplot as plt\n",
    "from pymc3 import floatX as floatX_pymc3\n",
    "from pymc3.theanof import set_tt_rng, MRG_RandomStreams\n",
    "import arviz as az\n",
    "from astropy.table import Table\n",
    "from warnings import filterwarnings\n",
    "\n",
    "# If everything has worked so far, you should see a list of\n",
    "worker IDs, and a corresponding list of process IDs.\n",
    "# You can verify it with a `ps`\n",
    "ar = lview.apply_async(os.getpid)\n",
    "print(\"Engine ID:PID mapping: \", ar.get_dict())"
   ]
  },
  {
   "cell_type": "code",
   "execution_count": 4,
   "metadata": {},
   "outputs": [],
   "source": [
    "filterwarnings('ignore')\n",
    "\n",
    "layer_names = ['w_in_1_grp', 'w_2_out_grp', 'b_in_1_grp', 'b_2_out_grp']\n",
    "\n",
    "np.random.seed(1234)\n",
    "\n",
    "floatX = theano.config.floatX"
   ]
  },
  {
   "cell_type": "code",
   "execution_count": 5,
   "metadata": {},
   "outputs": [
    {
     "data": {
      "text/plain": [
       "2329"
      ]
     },
     "execution_count": 5,
     "metadata": {},
     "output_type": "execute_result"
    }
   ],
   "source": [
    "def norm(data,eData):\n",
    "    \n",
    "    mu  = np.mean(data,axis=0)\n",
    "    std = np.std(data, axis=0)\n",
    "    \n",
    "    scaleData  = (data-mu)/std\n",
    "    scaleEData = eData/std\n",
    "\n",
    "    return(scaleData,scaleEData)\n",
    "\n",
    "def get_data(input_data):\n",
    "    \n",
    "    # Assuming your data is in a fits table you want to make it into a pandas dataframe (maybe to use if for Keras)\n",
    "    # Assumes here you've done most of the data handling in a different code\n",
    "    df = input_data.to_pandas()\n",
    "    \n",
    "    # Here is when you choose the sample size for your data etc\n",
    "    \n",
    "    train_dataset = df.sample(frac=1.0,random_state=0)\n",
    "    train_stats = train_dataset.describe()\n",
    " \n",
    "    loggTrain = np.array(train_dataset['logg']).astype(floatX)\n",
    "    alphamTrain = np.array(train_dataset['alpha_m']).astype(floatX)\n",
    "    teffTrain = np.array(train_dataset['Teff']).astype(floatX)\n",
    "    mhTrain = np.array(train_dataset['mh']).astype(floatX)\n",
    "    cfeTrain = np.array(train_dataset['cfe']).astype(floatX)\n",
    "    nfeTrain = np.array(train_dataset['nfe']).astype(floatX)\n",
    "    gmagTrain = np.array(train_dataset['G']).astype(floatX)\n",
    "    bpmagTrain = np.array(train_dataset['BP']).astype(floatX)\n",
    "    rpmagTrain = np.array(train_dataset['RP']).astype(floatX)\n",
    "    jmagTrain = np.array(train_dataset['J']).astype(floatX)\n",
    "    hmagTrain = np.array(train_dataset['H']).astype(floatX)\n",
    "    kmagTrain = np.array(train_dataset['K']).astype(floatX)\n",
    "\n",
    "    logAgeTrain = np.array(train_dataset['logAge']).astype(floatX)\n",
    "\n",
    "    loggTrain_err = np.array(train_dataset['logg_err']).astype(floatX)\n",
    "    alphamTrain_err = np.array(train_dataset['alpham_err']).astype(floatX)\n",
    "    teffTrain_err = np.array(train_dataset['Teff_err']).astype(floatX)\n",
    "    mhTrain_err = np.array(train_dataset['mh_err']).astype(floatX)\n",
    "    cfeTrain_err = np.array(train_dataset['cfe_err']).astype(floatX)\n",
    "    nfeTrain_err = np.array(train_dataset['nfe_err']).astype(floatX)\n",
    "    gmagTrain_err = np.array(train_dataset['G_err']).astype(floatX)\n",
    "    bpmagTrain_err = np.array(train_dataset['BP_err']).astype(floatX)\n",
    "    rpmagTrain_err = np.array(train_dataset['RP_err']).astype(floatX)\n",
    "    jmagTrain_err= np.array(train_dataset['J_err']).astype(floatX)\n",
    "    hmagTrain_err = np.array(train_dataset['H_err']).astype(floatX)\n",
    "    kmagTrain_err = np.array(train_dataset['K_err']).astype(floatX)\n",
    "\n",
    "    logAgeTrain_err =  np.array(train_dataset['logAge_err']).astype(floatX)\n",
    "\n",
    "    inputsTrain = np.column_stack((loggTrain, alphamTrain, teffTrain, mhTrain, cfeTrain, nfeTrain, \\\n",
    "                               gmagTrain, bpmagTrain, rpmagTrain, jmagTrain, hmagTrain, kmagTrain))\n",
    "    errInputsTrain = np.column_stack((loggTrain_err, alphamTrain_err, teffTrain_err, mhTrain_err, cfeTrain_err, nfeTrain_err, \\\n",
    "                                  gmagTrain_err, bpmagTrain_err, rpmagTrain_err, jmagTrain_err, \\\n",
    "                                  hmagTrain_err, kmagTrain_err))\n",
    "\n",
    "    targetsTrain    = np.array(logAgeTrain)\n",
    "    errTargetsTrain = np.array(logAgeTrain_err)\n",
    "    \n",
    "    # Make the arrays a floatX array\n",
    "    inputsTrain = inputsTrain.astype(floatX)\n",
    "    errInputsTrain = errInputsTrain.astype(floatX)\n",
    "\n",
    "    targetsTrain = targetsTrain.astype(floatX)\n",
    "    errTargetsTrain = errTargetsTrain.astype(floatX)\n",
    "\n",
    "    # First rule of a machine learning project: standardize the data\n",
    "    # Note: might need the mu and standard deviation but for now I think we are fine\n",
    "    \n",
    "    inputsTrain, errInputsTrain = norm(inputsTrain, errInputsTrain)\n",
    "\n",
    "    return inputsTrain, errInputsTrain, targetsTrain, errTargetsTrain\n",
    "\n",
    "datA = Table.read('./HBNN_train_data/datasetA.fits')\n",
    "datB = Table.read('./HBNN_train_data/datasetA.fits')\n",
    "datC = Table.read('./HBNN_train_data/datasetA.fits')\n",
    "datD = Table.read('./HBNN_train_data/datasetA.fits')\n",
    "\n",
    "len(datA)"
   ]
  },
  {
   "cell_type": "code",
   "execution_count": 6,
   "metadata": {},
   "outputs": [
    {
     "name": "stdout",
     "output_type": "stream",
     "text": [
      "Number of training samples:  2329\n"
     ]
    },
    {
     "data": {
      "text/plain": [
       "array([   3, 2329,   12])"
      ]
     },
     "execution_count": 6,
     "metadata": {},
     "output_type": "execute_result"
    }
   ],
   "source": [
    "inputsTrain_A, errInputsTrain_A, targetsTrain_A, errTargetsTrain_A = get_data(datA)\n",
    "\n",
    "inputsTrain_B, errInputsTrain_B, targetsTrain_B, errTargetsTrain_B = get_data(datB)\n",
    "\n",
    "inputsTrain_C, errInputsTrain_C, targetsTrain_C, errTargetsTrain_C, = get_data(datC)\n",
    "\n",
    "inputsTrain_D, errInputsTrain_D, targetsTrain_D, errTargetsTrain_D = get_data(datD)\n",
    "\n",
    "ntrain = len(inputsTrain_A)\n",
    "print(\"Number of training samples: \", ntrain)\n",
    "\n",
    "XsTrain = np.stack([inputsTrain_A, inputsTrain_B, inputsTrain_C])\n",
    "YsTrain = np.stack([targetsTrain_A, targetsTrain_B, targetsTrain_C])\n",
    "\n",
    "errXsTrain = np.stack([errInputsTrain_A, errInputsTrain_B, errInputsTrain_C])\n",
    "errYsTrain = np.stack([errTargetsTrain_A, errTargetsTrain_B, errTargetsTrain_C])\n",
    "\n",
    "XsTrain = theano.shared(XsTrain)\n",
    "YsTrain = theano.shared(YsTrain)\n",
    "errXsTrain = theano.shared(errXsTrain)\n",
    "errYsTrain = theano.shared(errYsTrain)\n",
    "\n",
    "XsTrain.shape.eval()"
   ]
  },
  {
   "cell_type": "code",
   "execution_count": 7,
   "metadata": {},
   "outputs": [],
   "source": [
    "n_hidden = 5\n",
    "n_grps = XsTrain.shape[0].eval()\n",
    "n_data = XsTrain.shape[2].eval()\n",
    "ntargets = 1\n",
    "\n",
    "def hierarchical_NN(annInput, errAnnInput, annTarget, errAnnTarget):\n",
    "    \n",
    "    # Initialize random weights between each layer\n",
    "    init_1 = floatX_pymc3(np.random.randn(n_data, n_hidden))\n",
    "    init_2 = floatX_pymc3(np.random.randn(n_hidden, n_hidden))\n",
    "    init_out = floatX_pymc3(np.random.randn(n_hidden))\n",
    "        \n",
    "    # Initialize random biases between each layer\n",
    "    bias_init_1  = np.random.randn(n_hidden)\n",
    "    bias_out = np.random.randn(ntargets)\n",
    "    \n",
    "    with pm.Model() as neural_network:\n",
    "        \n",
    "        # Group mean distribution for input to hidden layer    \n",
    "        Xs_true = pm.Normal('xtrue', mu = 0, sd = 20, shape = annInput.shape.eval(), testval=annInput.eval())\n",
    "        weights_in_1_grp = pm.Normal('w_in_1_grp', 0, sd=1., \n",
    "                                 shape=(n_data, n_hidden), \n",
    "                                 testval=init_1)\n",
    "    \n",
    "        # Group standard-deviation\n",
    "        weights_in_1_grp_sd = pm.HalfNormal('w_in_1_grp_sd', sd=1.)\n",
    "        biases_in_1_grp = pm.Normal('b_in_1_grp', 0, sd=1., shape=(n_hidden), testval = bias_init_1)\n",
    "        biases_in_1_grp_sd = pm.HalfNormal('b_in_1_grp_sd', sd=1.)\n",
    "        \n",
    "        # Group mean distribution from hidden layer to output\n",
    "        weights_2_out_grp = pm.Normal('w_2_out_grp', 0, sd=1., \n",
    "                                  shape=(n_hidden,), \n",
    "                                  testval=init_out)\n",
    "    \n",
    "        weights_2_out_grp_sd = pm.HalfNormal('w_2_out_grp_sd', sd=1.)\n",
    "        biases_2_out_grp = pm.Normal('b_2_out_grp', 0, sd=1., shape=(ntargets,), testval=bias_out)\n",
    "        biases_2_out_grp_sd = pm.HalfNormal('b_2_out_grp_sd', sd=1.)\n",
    "    \n",
    "        # Separate weights for each different model, just add a 3rd dimension\n",
    "        # of weights\n",
    "        weights_in_1_raw = pm.Normal('w_in_1', \n",
    "                                     shape=(n_grps, n_data, n_hidden))\n",
    "        \n",
    "        # Non-centered specification of hierarchical model\n",
    "        # see https://twiecki.github.io/blog/2017/02/08/bayesian-hierchical-non-centered/\n",
    "        weights_in_1 = weights_in_1_raw * weights_in_1_grp_sd + weights_in_1_grp\n",
    "    \n",
    "        biases_in_1_raw = pm.Normal('b_in_1', shape = (n_grps, 1, n_hidden,))\n",
    "        biases_in_1 = biases_in_1_raw * biases_in_1_grp_sd + biases_in_1_grp\n",
    "\n",
    "        weights_2_out_raw = pm.Normal('w_2_out', \n",
    "                                      shape=(n_grps, n_hidden))\n",
    "        weights_2_out = weights_2_out_raw * weights_2_out_grp_sd + weights_2_out_grp\n",
    "    \n",
    "        biases_2_out_raw = pm.Normal('b_2_out', shape=(n_grps, ntargets))\n",
    "        biases_2_out = biases_2_out_raw * biases_2_out_grp_sd + biases_2_out_grp\n",
    "        \n",
    "        # Build neural-network using tanh activation function\n",
    "        # tt.batched_dot just calls .dot along an axis\n",
    "        \n",
    "        act_1 = tt.nnet.relu(tt.batched_dot(Xs_true, weights_in_1) + biases_in_1)\n",
    "        \n",
    "        # Debug 1: get rid of he biases_in_2; see if it works\n",
    "        # Debug 2: will use ReLU\n",
    "        # Debug 3: look into the uncertainties\n",
    "        # Debug 4: look at changing the prior on the biases\n",
    "    \n",
    "        act_out = tt.batched_dot(act_1, weights_2_out) + biases_2_out\n",
    "        \n",
    "        pred = pm.Deterministic('pred', act_out)\n",
    "        likelihood_x = pm.Normal('x', mu = Xs_true, sd = errAnnInput, observed = annInput)\n",
    "     \n",
    "        out = pm.Normal('out', mu=pred, observed=annTarget, sd = errAnnTarget)\n",
    "    \n",
    "    return neural_network"
   ]
  },
  {
   "cell_type": "code",
   "execution_count": 8,
   "metadata": {},
   "outputs": [],
   "source": [
    "neural_network = hierarchical_NN(XsTrain, errXsTrain, YsTrain, errYsTrain)"
   ]
  },
  {
   "cell_type": "code",
   "execution_count": 9,
   "metadata": {},
   "outputs": [
    {
     "name": "stderr",
     "output_type": "stream",
     "text": [
      "Auto-assigning NUTS sampler...\n",
      "Initializing NUTS using advi+adapt_diag...\n",
      "Average Loss = 3.2779e+05: 100%|██████████| 200000/200000 [1:39:44<00:00, 33.42it/s]    \n",
      "Finished [100%]: Average Loss = 3.2779e+05\n",
      "Sequential sampling (1 chains in 1 job)\n",
      "NUTS: [b_2_out, w_2_out, b_in_1, w_in_1, b_2_out_grp_sd, b_2_out_grp, w_2_out_grp_sd, w_2_out_grp, b_in_1_grp_sd, b_in_1_grp, w_in_1_grp_sd, w_in_1_grp, xtrue]\n",
      "100%|██████████| 600/600 [35:16<00:00,  2.89s/it]  \n",
      "There were 236 divergences after tuning. Increase `target_accept` or reparameterize.\n",
      "The acceptance probability does not match the target. It is 0.306591040153818, but should be close to 0.9. Try to increase the number of tuning steps.\n",
      "Only one chain was sampled, this makes it impossible to run some convergence checks\n",
      "100%|██████████| 100/100 [00:05<00:00, 24.57it/s]\n"
     ]
    }
   ],
   "source": [
    "with neural_network:\n",
    "        #fit model\n",
    "        trace_hier = pm.sample(init='advi+adapt_diag', tune=100, chains=1, \n",
    "                     nuts_kwargs={'target_accept': 0.9}, \n",
    "                     progressbar=True)\n",
    "        # sample posterior predictive\n",
    "        ppc_train = pm.sample_ppc(trace_hier, samples=100, progressbar=True) \n",
    "        pred_train = ppc_train['out'].mean(axis=0) "
   ]
  },
  {
   "cell_type": "code",
   "execution_count": 10,
   "metadata": {},
   "outputs": [],
   "source": [
    "YsTrain.shape.eval()\n",
    "ysTrain_0 = YsTrain.eval()[0]\n",
    "ysTrain_1 = YsTrain.eval()[1]\n",
    "ysTrain_2 = YsTrain.eval()[2]\n",
    "ysTrain_0.shape\n",
    "targetmin = -0.25\n",
    "targetmax = 1.25"
   ]
  },
  {
   "cell_type": "code",
   "execution_count": 11,
   "metadata": {},
   "outputs": [
    {
     "data": {
      "text/plain": [
       "(-0.3, 1.3)"
      ]
     },
     "execution_count": 11,
     "metadata": {},
     "output_type": "execute_result"
    },
    {
     "data": {
      "image/png": "[encoded data removed]",
      "text/plain": [
       "<Figure size 432x288 with 1 Axes>"
      ]
     },
     "metadata": {
      "needs_background": "light"
     },
     "output_type": "display_data"
    }
   ],
   "source": [
    "plt.scatter(ysTrain_0, pred_train[0], color='k', s=20)\n",
    "plt.plot([targetmin,targetmax],[targetmin,targetmax],':k',linewidth=1)\n",
    "plt.xlim(-0.3, 1.3)\n",
    "plt.ylim(-0.3, 1.3)"
   ]
  },
  {
   "cell_type": "code",
   "execution_count": 12,
   "metadata": {},
   "outputs": [],
   "source": [
    "from collections import defaultdict\n",
    "samples_tmp = defaultdict(list)\n",
    "samples = {}\n",
    "\n",
    "for layer_name in layer_names:\n",
    "    for mu, sd in zip(trace_hier.get_values(layer_name, chains=0),\n",
    "                      trace_hier.get_values(layer_name+'_sd', chains=0)):\n",
    "        for _ in range(20): # not sure why the `size` kwarg doesn't work\n",
    "            samples_tmp[layer_name].append(stats.norm(mu, sd).rvs())\n",
    "    samples[layer_name] = np.asarray(samples_tmp[layer_name])"
   ]
  },
  {
   "cell_type": "code",
   "execution_count": 69,
   "metadata": {},
   "outputs": [],
   "source": [
    "def flat_bnn(annInput, errAnnInput, annTarget, errAnnTarget):\n",
    "    \n",
    "    annInput = theano.shared(annInput)\n",
    "    errAnnInput = theano.shared(errAnnInput)\n",
    "    annTarget = theano.shared(annTarget)\n",
    "    errAnnTarget = theano.shared(errAnnTarget)\n",
    "    \n",
    "    n_samples = samples['w_in_1_grp'].shape[0]\n",
    "    n_hidden = 5   \n",
    "    prior_1_mu=samples['w_in_1_grp'].mean(axis=0)\n",
    "    bias_1_mu=samples['b_in_1_grp'].mean(axis=0)\n",
    "    prior_1_cov=np.cov(samples['w_in_1_grp'].reshape((n_samples, -1)).T)\n",
    "    bias_1_cov = np.cov(samples['b_in_1_grp'].reshape((n_samples, -1)).T)\n",
    "    prior_out_mu=samples['w_2_out_grp'].mean(axis=0)\n",
    "    bias_out_mu=samples['b_2_out_grp'].mean(axis=0)\n",
    "    prior_out_cov=np.cov(samples['w_2_out_grp'].reshape((n_samples, -1)).T)\n",
    "    bias_out_cov=np.cov(samples['b_2_out_grp'].reshape((n_samples, -1)).T)\n",
    "\n",
    "    with pm.Model() as flat_neural_network:\n",
    "\n",
    "        Xs_true = pm.Normal('xtrue', mu = 0, sd = 20, shape = annInput.shape.eval(), testval=annInput.eval())\n",
    "        \n",
    "        # In order to model the correlation structure between the 2D weights,\n",
    "        # we flatten them first. Now here we have to reshape to give them their\n",
    "        # original 2D shape.\n",
    "        \n",
    "        weights_in_1 = (pm.MvNormal('w_in_1', prior_1_mu.flatten(), \n",
    "                                   cov=prior_1_cov, \n",
    "                                   shape=prior_1_cov.shape[0]).reshape((n_data, n_hidden)))\n",
    "        print(weights_in_1.tag.test_value.shape)\n",
    "        \n",
    "        bias_in_1 = (pm.MvNormal('bias_in_1', bias_1_mu.flatten(),\n",
    "                              cov      = bias_1_cov,\n",
    "                              shape   = bias_1_cov.shape[0]).reshape((n_hidden,)))\n",
    "        \n",
    "        # Weights from hidden layer to output\n",
    "        weights_2_out = (pm.MvNormal('w_2_out', prior_out_mu.flatten(), \n",
    "                                    cov=prior_out_cov, \n",
    "                                    shape=prior_out_cov.shape[0]).reshape((n_hidden,)))\n",
    "        \n",
    "        bias_2_out = (pm.Normal('bias_2_out', mu = bias_out_mu.flatten(), sd = bias_out_cov, shape = (ntargets)).reshape((ntargets,)))\n",
    "        \n",
    "        # Build neural-network using tanh activation function\n",
    "        act_1 =  tt.nnet.relu(tt.dot(Xs_true, weights_in_1) + bias_in_1) \n",
    "    \n",
    "        act_out = tt.dot(act_1, weights_2_out) + bias_2_out\n",
    "        pred = pm.Deterministic('pred', act_out)\n",
    "        likelihood_x = pm.Normal('x', mu = Xs_true, sd = errAnnInput, observed = annInput)\n",
    "     \n",
    "        out = pm.Normal('out', pred, observed=annTarget, sd = errAnnTarget)\n",
    "    \n",
    "    return flat_neural_network"
   ]
  },
  {
   "cell_type": "code",
   "execution_count": 14,
   "metadata": {},
   "outputs": [],
   "source": [
    "XsTrainBNN =  inputsTrain_D\n",
    "YsTrainBNN =  targetsTrain_D\n",
    "errXsTrainBNN = errInputsTrain_D\n",
    "errYsTrainBNN =  errTargetsTrain_D"
   ]
  },
  {
   "cell_type": "code",
   "execution_count": 70,
   "metadata": {},
   "outputs": [
    {
     "name": "stdout",
     "output_type": "stream",
     "text": [
      "(12, 5)\n"
     ]
    }
   ],
   "source": [
    "bnn_neural_network = flat_bnn(XsTrainBNN, errXsTrainBNN, YsTrainBNN, errYsTrainBNN)"
   ]
  },
  {
   "cell_type": "code",
   "execution_count": 71,
   "metadata": {},
   "outputs": [
    {
     "name": "stderr",
     "output_type": "stream",
     "text": [
      "Auto-assigning NUTS sampler...\n",
      "Initializing NUTS using advi+adapt_diag...\n",
      "Average Loss = 1.0951e+05: 100%|██████████| 200000/200000 [36:54<00:00, 90.32it/s]  \n",
      "Finished [100%]: Average Loss = 1.0951e+05\n",
      "Sequential sampling (1 chains in 1 job)\n",
      "NUTS: [bias_2_out, w_2_out, bias_in_1, w_in_1, xtrue]\n",
      "100%|██████████| 600/600 [30:35<00:00,  2.82s/it]\n",
      "Only one chain was sampled, this makes it impossible to run some convergence checks\n",
      "100%|██████████| 100/100 [00:11<00:00,  9.00it/s]\n"
     ]
    }
   ],
   "source": [
    "with bnn_neural_network:\n",
    "        #fit model\n",
    "        trace_bnn = pm.sample(init='advi+adapt_diag', tune=100, chains=1, \n",
    "                     nuts_kwargs={'target_accept': 0.9}, \n",
    "                     progressbar=True)\n",
    "        # sample posterior predictive\n",
    "        bnn_ppc_train = pm.sample_ppc(trace_bnn, samples=100, progressbar=True) "
   ]
  },
  {
   "cell_type": "code",
   "execution_count": 72,
   "metadata": {},
   "outputs": [
    {
     "data": {
      "text/plain": [
       "(-0.3, 1.3)"
      ]
     },
     "execution_count": 72,
     "metadata": {},
     "output_type": "execute_result"
    },
    {
     "data": {
      "image/png": "[encoded data removed]",
      "text/plain": [
       "<Figure size 432x288 with 1 Axes>"
      ]
     },
     "metadata": {
      "needs_background": "light"
     },
     "output_type": "display_data"
    }
   ],
   "source": [
    "bnn_pred_train = bnn_ppc_train['out'].mean(axis=0)\n",
    "\n",
    "plt.scatter(YsTrainBNN, bnn_pred_train, color='k', s=20)\n",
    "\n",
    "plt.xlim(-0.3, 1.3)\n",
    "plt.ylim(-0.3, 1.3)"
   ]
  },
  {
   "cell_type": "code",
   "execution_count": 73,
   "metadata": {},
   "outputs": [],
   "source": [
    "def get_test_data(test_data):\n",
    "    \n",
    "    # Assuming your data is in a fits table you want to make it into a pandas dataframe (maybe to use if for Keras)\n",
    "    # Assumes here you've done most of the data handling in a different code\n",
    "    test_dataset = pd.read_csv(test_data)\n",
    "    test_stats = test_dataset.describe()\n",
    " \n",
    "    loggTest = np.array(test_dataset['LOGG']).astype(floatX)\n",
    "    alphamTest = np.array(test_dataset['ALPHA_M']).astype(floatX)\n",
    "    teffTest = np.array(test_dataset['TEFF']).astype(floatX)\n",
    "    mhTest = np.array(test_dataset['M_H']).astype(floatX)\n",
    "    cfeTest = np.array(test_dataset['C_FE']).astype(floatX)\n",
    "    nfeTest = np.array(test_dataset['N_FE']).astype(floatX)\n",
    "    gmagTest = np.array(test_dataset['phot_g_mean_mag']).astype(floatX)\n",
    "    bpmagTest = np.array(test_dataset['phot_bp_mean_mag']).astype(floatX)\n",
    "    rpmagTest = np.array(test_dataset['phot_rp_mean_mag']).astype(floatX)\n",
    "    jmagTest = np.array(test_dataset['J']).astype(floatX)\n",
    "    hmagTest = np.array(test_dataset['H']).astype(floatX)\n",
    "    kmagTest = np.array(test_dataset['K']).astype(floatX)\n",
    "\n",
    "    age = test_dataset['age']\n",
    "    age_68u = np.asarray(test_dataset['age_68u']).astype('f8')\n",
    "    age_68l = np.asarray(test_dataset['age_68l']).astype('f8')\n",
    "    logAge = np.log10(age)\n",
    "    logAge_err = (np.log10(age_68u) - np.log10(age_68l))/2.0\n",
    "    \n",
    "    logAgeTest = np.array(logAge).astype(floatX)\n",
    "    logAgeTest_err = np.array(logAge_err).astype(floatX)\n",
    "\n",
    "    loggTest_err = np.array(test_dataset['LOGG_ERR']).astype(floatX)\n",
    "    alphamTest_err = np.array(test_dataset['ALPHA_M_ERR']).astype(floatX)\n",
    "    teffTest_err = np.array(test_dataset['TEFF_ERR']).astype(floatX)\n",
    "    mhTest_err = np.array(test_dataset['M_H_ERR']).astype(floatX)\n",
    "    cfeTest_err = np.array(test_dataset['C_FE_ERR']).astype(floatX)\n",
    "    nfeTest_err = np.array(test_dataset['N_FE_ERR']).astype(floatX)\n",
    "    \n",
    "    g_mag = np.asarray(test_dataset['phot_g_mean_mag']).astype('f8')\n",
    "    g_flux = np.asarray(test_dataset['phot_g_mean_flux']).astype('f8')\n",
    "    g_flux_error = np.asarray(test_dataset['phot_g_mean_flux_error']).astype('f8')\n",
    "    gmag_err = 0.01 + 0.5 * 2.5 * (np.log10((g_flux + g_flux_error )/g_flux) - np.log10((g_flux - g_flux_error )/g_flux))\n",
    "    gmagTest_err = np.array(gmag_err).astype(floatX)\n",
    "    \n",
    "    bp_mag = np.asarray(test_dataset['phot_bp_mean_mag']).astype('f8')\n",
    "    bp_flux = np.asarray(test_dataset['phot_bp_mean_flux'].astype('f8'))\n",
    "    bp_flux_error = np.asarray(test_dataset['phot_bp_mean_flux_error']).astype('f8')\n",
    "    bpmag_err = 0.01 + 0.5 * 2.5 * (np.log10((bp_flux + bp_flux_error )/bp_flux) - np.log10((bp_flux - bp_flux_error )/bp_flux))\n",
    "    bpmagTest_err = np.array(bpmag_err).astype(floatX)\n",
    "    \n",
    "    rp_mag = np.asarray(test_dataset['phot_rp_mean_mag']).astype('f8')\n",
    "    rp_flux = np.asarray(test_dataset['phot_rp_mean_flux']).astype('f8')\n",
    "    rp_flux_error = np.asarray(test_dataset['phot_rp_mean_flux_error']).astype('f8')\n",
    "    rpmag_err = 0.01 +  0.5 * 2.5 * (np.log10((rp_flux + rp_flux_error )/rp_flux) - np.log10((rp_flux - rp_flux_error )/rp_flux))\n",
    "    \n",
    "    rpmagTest_err = np.array(rpmag_err).astype(floatX)\n",
    "    \n",
    "    jmagTest_err = np.array(test_dataset['J_ERR']).astype(floatX)\n",
    "    hmagTest_err = np.array(test_dataset['H_ERR']).astype(floatX)\n",
    "    kmagTest_err = np.array(test_dataset['K_ERR']).astype(floatX)\n",
    "\n",
    "    inputsTest = np.column_stack((loggTest, alphamTest, teffTest, mhTest, cfeTest, nfeTest, \\\n",
    "                               gmagTest, bpmagTest, rpmagTest, jmagTest, hmagTest, kmagTest))\n",
    "    errInputsTest = np.column_stack((loggTest_err, alphamTest_err, teffTest_err, mhTest_err, cfeTest_err, nfeTest_err, \\\n",
    "                                  gmagTest_err, bpmagTest_err, rpmagTest_err, jmagTest_err, \\\n",
    "                                  hmagTest_err, kmagTest_err))\n",
    "\n",
    "    targetsTest    = np.array(logAgeTest)\n",
    "    errTargetsTest = np.array(logAgeTest_err)\n",
    "    \n",
    "    inputsTest, errInputsTest = norm(inputsTest, errInputsTest)\n",
    "\n",
    "    return inputsTest, errInputsTest, targetsTest, errTargetsTest"
   ]
  },
  {
   "cell_type": "code",
   "execution_count": 74,
   "metadata": {},
   "outputs": [],
   "source": [
    "test = './training_data/test.csv'\n",
    "\n",
    "inputsTest, errInputsTest, targetsTest, errTargetsTest = get_test_data(test)"
   ]
  },
  {
   "cell_type": "code",
   "execution_count": 55,
   "metadata": {},
   "outputs": [
    {
     "data": {
      "text/plain": [
       "292"
      ]
     },
     "execution_count": 55,
     "metadata": {},
     "output_type": "execute_result"
    }
   ],
   "source": [
    "XTest = inputsTest\n",
    "errXTest = errInputsTest\n",
    "YTest = targetsTest\n",
    "errYTest = errTargetsTest\n",
    "\n",
    "Xtest.shape[0]"
   ]
  },
  {
   "cell_type": "code",
   "execution_count": 43,
   "metadata": {},
   "outputs": [
    {
     "data": {
      "text/latex": [
       "$w_2_out \\sim \\text{MvNormal}(\\mathit{mu}=array, \\mathit{cov}=array)$"
      ],
      "text/plain": [
       "w_2_out"
      ]
     },
     "execution_count": 43,
     "metadata": {},
     "output_type": "execute_result"
    }
   ],
   "source": [
    "n_data\n",
    "\n",
    "w1 = bnn_neural_network.w_in_1\n",
    "b1 = bnn_neural_network.bias_in_1\n",
    "w2 = bnn_neural_network.w_2_out\n",
    "b2 = bnn_neural_network.bias_2_out"
   ]
  },
  {
   "cell_type": "code",
   "execution_count": 82,
   "metadata": {},
   "outputs": [
    {
     "name": "stderr",
     "output_type": "stream",
     "text": [
      "100%|██████████| 100000/100000 [03:56<00:00, 422.84it/s]\n"
     ]
    }
   ],
   "source": [
    "with bnn_neural_network:\n",
    "    \n",
    "        xtest = pm.Normal('XTest_new', mu = XTest, sd = errXTest, shape = XTest.shape)\n",
    "        \n",
    "        w1 = bnn_neural_network.w_in_1.reshape((n_data, n_hidden))\n",
    "        b1 = bnn_neural_network.bias_in_1.reshape((n_hidden,))\n",
    "        w2 = bnn_neural_network.w_2_out.reshape((n_hidden,))\n",
    "        b2 = bnn_neural_network.bias_2_out.reshape((ntargets,))\n",
    "        \n",
    "        act_1 =  tt.nnet.relu(tt.dot(xtest, w1) + b1)\n",
    "        act_out = tt.dot(act_1, w2) + b2\n",
    "        \n",
    "        test_out = pm.Normal('test_out_new', act_out, observed = YTest, sd = errYTest)\n",
    "        ppc_test = pm.sample_ppc(trace_bnn, vars = [xtest, test_out], samples = 1000)"
   ]
  },
  {
   "cell_type": "code",
   "execution_count": 51,
   "metadata": {},
   "outputs": [
    {
     "name": "stdout",
     "output_type": "stream",
     "text": [
      "(60,)\n",
      "(292, 12)\n"
     ]
    }
   ],
   "source": [
    "print(bnn_neural_network.w_in_1.tag.test_value.shape)\n",
    "print(bnn_neural_network.Xtest_h.tag.test_value.shape)"
   ]
  },
  {
   "cell_type": "code",
   "execution_count": 83,
   "metadata": {},
   "outputs": [],
   "source": [
    "pred_test = ppc_test['test_out_new'].mean(axis=0)"
   ]
  },
  {
   "cell_type": "code",
   "execution_count": 84,
   "metadata": {},
   "outputs": [
    {
     "data": {
      "text/plain": [
       "[<matplotlib.lines.Line2D at 0x1c50f6ae48>]"
      ]
     },
     "execution_count": 84,
     "metadata": {},
     "output_type": "execute_result"
    },
    {
     "data": {
      "image/png": "[encoded data removed]",
      "text/plain": [
       "<Figure size 432x288 with 1 Axes>"
      ]
     },
     "metadata": {
      "needs_background": "light"
     },
     "output_type": "display_data"
    }
   ],
   "source": [
    "plt.scatter(targetsTest, pred_test)\n",
    "plt.xlim(-0.3, 1.3)\n",
    "plt.ylim(-0.3, 1.3)\n",
    "plt.plot([-0.3, 1.3], [-0.3, 1.3])"
   ]
  },
  {
   "cell_type": "code",
   "execution_count": 85,
   "metadata": {},
   "outputs": [
    {
     "data": {
      "text/plain": [
       "292"
      ]
     },
     "execution_count": 85,
     "metadata": {},
     "output_type": "execute_result"
    }
   ],
   "source": [
    "len(targetsTest)"
   ]
  },
  {
   "cell_type": "code",
   "execution_count": 86,
   "metadata": {},
   "outputs": [
    {
     "data": {
      "text/plain": [
       "(array([ 5.,  9., 24., 15., 20., 42., 48., 49., 61., 19.]),\n",
       " array([-0.33885014, -0.175139  , -0.01142786,  0.15228327,  0.31599441,\n",
       "         0.47970555,  0.64341669,  0.80712783,  0.97083897,  1.13455011,\n",
       "         1.29826125]),\n",
       " <a list of 10 Patch objects>)"
      ]
     },
     "execution_count": 86,
     "metadata": {},
     "output_type": "execute_result"
    },
    {
     "data": {
      "image/png": "[encoded data removed]",
      "text/plain": [
       "<Figure size 432x288 with 1 Axes>"
      ]
     },
     "metadata": {
      "needs_background": "light"
     },
     "output_type": "display_data"
    }
   ],
   "source": [
    "plt.hist(targetsTest)"
   ]
  },
  {
   "cell_type": "code",
   "execution_count": 89,
   "metadata": {},
   "outputs": [
    {
     "data": {
      "text/plain": [
       "(array([188., 213., 237., 203., 216., 268., 288., 236., 275., 205.]),\n",
       " array([-0.3444774 , -0.18036797, -0.01625854,  0.1478509 ,  0.31196033,\n",
       "         0.47606976,  0.6401792 ,  0.80428863,  0.96839807,  1.1325075 ,\n",
       "         1.29661693]),\n",
       " <a list of 10 Patch objects>)"
      ]
     },
     "execution_count": 89,
     "metadata": {},
     "output_type": "execute_result"
    },
    {
     "data": {
      "image/png": "[encoded data removed]",
      "text/plain": [
       "<Figure size 432x288 with 1 Axes>"
      ]
     },
     "metadata": {
      "needs_background": "light"
     },
     "output_type": "display_data"
    }
   ],
   "source": [
    "plt.hist(YsTrainBNN)"
   ]
  },
  {
   "cell_type": "code",
   "execution_count": null,
   "metadata": {},
   "outputs": [],
   "source": []
  }
 ],
 "metadata": {
  "kernelspec": {
   "display_name": "Python 3",
   "language": "python",
   "name": "python3"
  },
  "language_info": {
   "codemirror_mode": {
    "name": "ipython",
    "version": 3
   },
   "file_extension": ".py",
   "mimetype": "text/x-python",
   "name": "python",
   "nbconvert_exporter": "python",
   "pygments_lexer": "ipython3",
   "version": "3.6.6"
  }
 },
 "nbformat": 4,
 "nbformat_minor": 2
}
